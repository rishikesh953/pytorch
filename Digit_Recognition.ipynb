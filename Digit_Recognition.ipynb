{
  "nbformat": 4,
  "nbformat_minor": 0,
  "metadata": {
    "colab": {
      "name": "Digit_Recognition.ipynb",
      "provenance": [],
      "authorship_tag": "ABX9TyN+vjV3la5t8xESPzaajtlN",
      "include_colab_link": true
    },
    "kernelspec": {
      "name": "python3",
      "display_name": "Python 3"
    },
    "language_info": {
      "name": "python"
    }
  },
  "cells": [
    {
      "cell_type": "markdown",
      "metadata": {
        "id": "view-in-github",
        "colab_type": "text"
      },
      "source": [
        "<a href=\"https://colab.research.google.com/github/rishikesh953/pytorch/blob/main/Digit_Recognition.ipynb\" target=\"_parent\"><img src=\"https://colab.research.google.com/assets/colab-badge.svg\" alt=\"Open In Colab\"/></a>"
      ]
    },
    {
      "cell_type": "code",
      "execution_count": 28,
      "metadata": {
        "id": "8_x9m7OfzYKM"
      },
      "outputs": [],
      "source": [
        "# import statements\n",
        "\n",
        "import torch\n",
        "import torchvision\n",
        "import torch.nn as nn\n",
        "import torchvision.transforms as transforms\n",
        "import matplotlib.pyplot as plt\n"
      ]
    },
    {
      "cell_type": "code",
      "source": [
        "# device configure\n",
        "\n",
        "device = torch.device('cuda' if torch.cuda.is_available() else 'cpu')\n"
      ],
      "metadata": {
        "id": "xYXCnIh21dRZ"
      },
      "execution_count": 29,
      "outputs": []
    },
    {
      "cell_type": "code",
      "source": [
        "# hyper parameters\n",
        "\n",
        "input_size = 784\n",
        "hidden_size = 100\n",
        "num_classes = 10\n",
        "num_epochs = 4\n",
        "batch_size = 100\n",
        "learning_rate = 0.01"
      ],
      "metadata": {
        "id": "KabH_yt21qEO"
      },
      "execution_count": 30,
      "outputs": []
    },
    {
      "cell_type": "code",
      "source": [
        "# MNIST data\n",
        "\n",
        "train_dataset = torchvision.datasets.MNIST(root='./data', train=True, transform=transforms.ToTensor(), download=True)\n",
        "test_dataset = torchvision.datasets.MNIST(root='./data', train=False, transform=transforms.ToTensor())\n",
        "\n",
        "train_loader = torch.utils.data.DataLoader(dataset=train_dataset, batch_size=batch_size, shuffle=True)\n",
        "test_loader = torch.utils.data.DataLoader(dataset=test_dataset, batch_size=batch_size, shuffle=False)\n",
        "\n",
        "examples = iter(train_loader)\n",
        "samples, labels = examples.next()"
      ],
      "metadata": {
        "id": "dUPL8DzH1vRR"
      },
      "execution_count": 31,
      "outputs": []
    },
    {
      "cell_type": "code",
      "source": [
        "# print(samples.shape, labels.shape)\n",
        "#\n",
        "# for i in range(6):\n",
        "#     plt.subplot(2, 3, i+1)\n",
        "#     plt.imshow(samples[i][0],cmap='gray')\n",
        "#     plt.show()"
      ],
      "metadata": {
        "id": "FT4CeAs_16gs"
      },
      "execution_count": 32,
      "outputs": []
    },
    {
      "cell_type": "code",
      "source": [
        "# custom model\n",
        "\n",
        "class NeuralNet(nn.Module):\n",
        "    def __init__(self, input_size, hidden_size, num_classes):\n",
        "        super(NeuralNet, self).__init__()\n",
        "        self.l1 = nn.Linear(input_size, hidden_size)\n",
        "        self.relu = nn.ReLU()\n",
        "        self.l2 = nn.Linear(hidden_size, num_classes)\n",
        "\n",
        "    def forward(self, x):\n",
        "        out = self.l1(x)\n",
        "        out = self.relu(out)\n",
        "        out = self.l2(out)\n",
        "        return out\n",
        "\n",
        "\n",
        "model = NeuralNet(input_size, hidden_size, num_classes)"
      ],
      "metadata": {
        "id": "aW9gG_hH114k"
      },
      "execution_count": 33,
      "outputs": []
    },
    {
      "cell_type": "code",
      "source": [
        "# loss and optimizer\n",
        "\n",
        "criterion = nn.CrossEntropyLoss()\n",
        "optimizer = torch.optim.Adam(model.parameters(), lr=learning_rate)"
      ],
      "metadata": {
        "id": "Ou0cYtLc1_X7"
      },
      "execution_count": 34,
      "outputs": []
    },
    {
      "cell_type": "code",
      "source": [
        "# training loop\n",
        "\n",
        "n_total_steps = len(train_loader)\n",
        "\n",
        "for epoch in range(num_epochs):\n",
        "    for i, (images, labels) in enumerate(train_loader):\n",
        "\n",
        "        images = images.reshape(-1, 28 * 28).to(device)\n",
        "        labels = labels.to(device)\n",
        "\n",
        "        # forward pass\n",
        "\n",
        "        outputs = model(images)\n",
        "        loss = criterion(outputs, labels)\n",
        "\n",
        "        # backward pass\n",
        "\n",
        "        optimizer.zero_grad()\n",
        "        loss.backward()\n",
        "        optimizer.step()\n",
        "\n",
        "        if (i + 1) % 100 == 0:\n",
        "            print(f'epoch:{epoch + 1}/{num_epochs}, step {i + 1}/{n_total_steps}, loss = {loss.item():.5f}')\n"
      ],
      "metadata": {
        "colab": {
          "base_uri": "https://localhost:8080/"
        },
        "id": "fcJ4AOGU2D4O",
        "outputId": "395774dc-1c1a-4d49-8089-21ff273c137c"
      },
      "execution_count": 35,
      "outputs": [
        {
          "output_type": "stream",
          "name": "stdout",
          "text": [
            "epoch:1/4, step 100/600, loss = 0.22877\n",
            "epoch:1/4, step 200/600, loss = 0.09792\n",
            "epoch:1/4, step 300/600, loss = 0.22030\n",
            "epoch:1/4, step 400/600, loss = 0.09350\n",
            "epoch:1/4, step 500/600, loss = 0.15717\n",
            "epoch:1/4, step 600/600, loss = 0.09491\n",
            "epoch:2/4, step 100/600, loss = 0.22662\n",
            "epoch:2/4, step 200/600, loss = 0.24435\n",
            "epoch:2/4, step 300/600, loss = 0.06578\n",
            "epoch:2/4, step 400/600, loss = 0.06415\n",
            "epoch:2/4, step 500/600, loss = 0.17718\n",
            "epoch:2/4, step 600/600, loss = 0.19168\n",
            "epoch:3/4, step 100/600, loss = 0.06649\n",
            "epoch:3/4, step 200/600, loss = 0.03233\n",
            "epoch:3/4, step 300/600, loss = 0.12802\n",
            "epoch:3/4, step 400/600, loss = 0.35394\n",
            "epoch:3/4, step 500/600, loss = 0.07361\n",
            "epoch:3/4, step 600/600, loss = 0.08021\n",
            "epoch:4/4, step 100/600, loss = 0.21724\n",
            "epoch:4/4, step 200/600, loss = 0.06487\n",
            "epoch:4/4, step 300/600, loss = 0.13474\n",
            "epoch:4/4, step 400/600, loss = 0.03515\n",
            "epoch:4/4, step 500/600, loss = 0.08369\n",
            "epoch:4/4, step 600/600, loss = 0.02503\n"
          ]
        }
      ]
    },
    {
      "cell_type": "code",
      "source": [
        "# test the model\n",
        "\n",
        "with torch.no_grad():\n",
        "    n_correct = 0\n",
        "    n_samples = 0\n",
        "    \n",
        "    for images, labels in test_loader:\n",
        "        images = images.reshape(-1, 28*28).to(device)\n",
        "        labels = labels.to(device)\n",
        "        \n",
        "        outputs = model(images)\n",
        "        \n",
        "        # values, index\n",
        "        \n",
        "        _, predictions = torch.max(outputs, 1)\n",
        "        n_samples += labels.shape[0]\n",
        "        n_correct += (predictions == labels).sum().item()\n",
        "        \n",
        "    acc = 100* n_correct/n_samples\n",
        "    \n",
        "    print(f'accuracy = {acc}')"
      ],
      "metadata": {
        "colab": {
          "base_uri": "https://localhost:8080/"
        },
        "id": "-AZJJkSkzgFX",
        "outputId": "8b93f288-fdf8-4cc6-c0a9-e3e821eb852e"
      },
      "execution_count": 36,
      "outputs": [
        {
          "output_type": "stream",
          "name": "stdout",
          "text": [
            "accuracy = 96.5\n"
          ]
        }
      ]
    },
    {
      "cell_type": "code",
      "source": [
        "#  saving the model\n",
        "\n",
        "FILE = 'digit_recognition.pth'\n",
        "torch.save(model.state_dict(), FILE)"
      ],
      "metadata": {
        "id": "y7qTZPKS3ZIj"
      },
      "execution_count": 37,
      "outputs": []
    },
    {
      "cell_type": "code",
      "source": [
        ""
      ],
      "metadata": {
        "id": "XAtPtBeTqhcf"
      },
      "execution_count": null,
      "outputs": []
    }
  ]
}